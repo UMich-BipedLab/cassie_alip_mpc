{
 "cells": [
  {
   "cell_type": "code",
   "execution_count": null,
   "metadata": {},
   "outputs": [],
   "source": [
    "from scs_benchmark_runners import *\n",
    "\n",
    "np.random.seed(0)\n",
    "so    = {'solver': 'SUPERSCS','eps':1e-3, 'verbose':False, 'memory': 100,  'use_indirect':True}\n",
    "soSCS = {'solver': 'SCS',     'eps':1e-3, 'verbose':False}\n",
    "\n",
    "chebySCS = chebyshevProfile(soSCS)\n",
    "chebySuperSCS = chebyshevProfile(so)\n"
   ]
  }
 ],
 "metadata": {
  "kernelspec": {
   "display_name": "Python 2",
   "language": "python",
   "name": "python2"
  },
  "language_info": {
   "codemirror_mode": {
    "name": "ipython",
    "version": 2
   },
   "file_extension": ".py",
   "mimetype": "text/x-python",
   "name": "python",
   "nbconvert_exporter": "python",
   "pygments_lexer": "ipython2",
   "version": "2.7.6"
  }
 },
 "nbformat": 4,
 "nbformat_minor": 2
}
